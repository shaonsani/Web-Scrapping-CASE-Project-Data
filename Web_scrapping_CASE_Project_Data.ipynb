{
  "nbformat": 4,
  "nbformat_minor": 0,
  "metadata": {
    "colab": {
      "name": "Web scrapping CASE Project Data.ipynb",
      "provenance": [],
      "collapsed_sections": [],
      "authorship_tag": "ABX9TyOTv7whN9v+iQBThc0mUHao",
      "include_colab_link": true
    },
    "kernelspec": {
      "name": "python3",
      "display_name": "Python 3"
    }
  },
  "cells": [
    {
      "cell_type": "markdown",
      "metadata": {
        "id": "view-in-github",
        "colab_type": "text"
      },
      "source": [
        "<a href=\"https://colab.research.google.com/github/shaonsani/Web-Scrapping-CASE-Project-Data/blob/master/Web_scrapping_CASE_Project_Data.ipynb\" target=\"_parent\"><img src=\"https://colab.research.google.com/assets/colab-badge.svg\" alt=\"Open In Colab\"/></a>"
      ]
    },
    {
      "cell_type": "code",
      "metadata": {
        "id": "7ZvMGvdoUgMY",
        "colab_type": "code",
        "colab": {}
      },
      "source": [
        "import numpy as np\n",
        "import pandas as pd\n",
        "import matplotlib.pyplot as plt\n",
        "\n",
        "%matplotlib inline\n",
        "from urllib.request import urlopen\n",
        "from urllib.error import URLError\n",
        "from bs4 import BeautifulSoup as sp\n",
        "import re\n",
        "df= pd.DataFrame(columns=['Date', 'Dhaka', 'Chittagong','Gazipur','Naraynganj','Sylhet','Khulna','Rajshahi','Barisal'])\n",
        "ls=[6,62,64,65,66,67,71,72,74,75,77,79,80,81,83,\n",
        "    84,86,87,89,91,95,109,119,134,177,187,194,195,\n",
        "    223,224,225,232,233,\n",
        "    234,235,236,237,238,239,240,241,242,242,243,\n",
        "    244,245,246,247,248,249,250,251,252,253,254,\n",
        "    255,256,257,258,272,279,280,281,289,291,314,\n",
        "    326,367,388,389,390,158,438,548,549]"
      ],
      "execution_count": 0,
      "outputs": []
    },
    {
      "cell_type": "code",
      "metadata": {
        "id": "ER_8QS4OUiNf",
        "colab_type": "code",
        "colab": {}
      },
      "source": [
        "for i in range(46,2058):\n",
        "    print(i)\n",
        "    f=0\n",
        "    for x in ls:\n",
        "      if i==x:\n",
        "        f=1\n",
        "    if f:\n",
        "      continue\n",
        "    url=\"http://case.doe.gov.bd/index.php?option=com_content&view=article&id=\"\n",
        "    url=url+str(i)\n",
        "    url=url+\":air-quality-index&catid=8:aqi-archives&Itemid=32\"\n",
        "    try:\n",
        "      html=urlopen(url)\n",
        "    except URLError as e:\n",
        "      if e.code == 400:\n",
        "        print (\"Page not found!\")\n",
        "        continue\n",
        "    soup=sp(html,\"lxml\")\n",
        "    title=soup.title\n",
        "    date=title.text[24:]\n",
        "    print(date)\n",
        "    table=soup.find('tbody')\n",
        "    table_r=table.find_all('tr')[1:]\n",
        "    value=[]\n",
        "    for tab in table_r:\n",
        "      td=tab.find_all('td')[1:2]\n",
        "      td=td[0].text.strip()\n",
        "      loc=tab.find_all('td')[0:1]\n",
        "      loc=loc[0].text.strip()\n",
        "      loc=loc[0:-1]\n",
        "      value.append(td)\n",
        "    df = df.append({'Date':date, 'Dhaka':value[0], 'Chittagong':value[1],'Gazipur':value[2],'Naraynganj':value[3],'Sylhet':value[4],'Khulna':value[5],'Rajshahi':value[6],'Barisal':value[7]}, ignore_index=True)\n",
        "    "
      ],
      "execution_count": 0,
      "outputs": []
    },
    {
      "cell_type": "code",
      "metadata": {
        "id": "inZ3DTqWr8OS",
        "colab_type": "code",
        "colab": {}
      },
      "source": [
        "for i in range(2066,2291):\n",
        "    print(i)\n",
        "    url=\"http://case.doe.gov.bd/index.php?option=com_content&view=article&id=\"\n",
        "    url=url+str(i)\n",
        "    url=url+\":air-quality-index&catid=8:aqi-archives&Itemid=32\"\n",
        "    try:\n",
        "      html=urlopen(url)\n",
        "    except URLError as e:\n",
        "      if e.code == 400:\n",
        "        print (\"Page not found!\")\n",
        "        continue\n",
        "    soup=sp(html,\"lxml\")\n",
        "    title=soup.title\n",
        "    date=title.text[24:]\n",
        "    print(date)\n",
        "    table=soup.find('tbody')\n",
        "    table_r=table.find_all('tr')[1:9]\n",
        "    value=[]\n",
        "    for tab in table_r:\n",
        "      td=tab.find_all('td')[1:2]\n",
        "      td=td[0].text.strip()\n",
        "      loc=tab.find_all('td')[0:1]\n",
        "      loc=loc[0].text.strip()\n",
        "      loc=loc[0:-1]\n",
        "      value.append(td)\n",
        "    df = df.append({'Date':date, 'Dhaka':value[0], 'Chittagong':value[1],'Gazipur':value[2],'Naraynganj':value[3],'Sylhet':value[4],'Khulna':value[5],'Rajshahi':value[6],'Barisal':value[7]}, ignore_index=True)\n",
        "    "
      ],
      "execution_count": 0,
      "outputs": []
    },
    {
      "cell_type": "code",
      "metadata": {
        "id": "VCzUAtqCal80",
        "colab_type": "code",
        "colab": {}
      },
      "source": [
        "from google.colab import drive\n",
        "drive.mount('drive')\n",
        "df.to_csv('AQI.csv')\n",
        "!cp AQI.csv \"drive/My Drive/\""
      ],
      "execution_count": 0,
      "outputs": []
    }
  ]
}